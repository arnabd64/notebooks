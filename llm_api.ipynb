{
 "cells": [
  {
   "cell_type": "markdown",
   "id": "a51a0a18",
   "metadata": {},
   "source": [
    "# Credentials of LLM provider\n",
    "\n",
    "1. API_ENDPOINT: Exposed URL of LLM provider\n",
    "2. AUTH_KEY: Secret key that authenticates API requests.\n",
    "3. DEFAULT_MODEL: Default model to use"
   ]
  },
  {
   "cell_type": "code",
   "execution_count": null,
   "id": "335b2f84",
   "metadata": {},
   "outputs": [],
   "source": [
    "API_ENDPOINT = \"\"\n",
    "AUTH_KEY = \"sk-hVV5pRvA8T7ZYN6pO9_ZkA\"\n",
    "DEFAULT_MODEL = \"cerebras/qwen-3-32b\""
   ]
  },
  {
   "cell_type": "markdown",
   "id": "9a8de70d",
   "metadata": {},
   "source": [
    "Data Schema"
   ]
  },
  {
   "cell_type": "code",
   "execution_count": 118,
   "id": "a5eafce4",
   "metadata": {},
   "outputs": [],
   "source": [
    "from typing import TypedDict, Literal, Optional, List\n",
    "\n",
    "class Message(TypedDict):\n",
    "    \"\"\"\n",
    "    Schema for a single message.\n",
    "\n",
    "    Attributes:\n",
    "        - role: Any one of system, user or ai\n",
    "    \"\"\"\n",
    "    role: Literal[\"system\", \"user\", \"ai\"]\n",
    "    message: str\n",
    "\n",
    "\n",
    "class Conversation(TypedDict):\n",
    "    messages: Optional[List[Message]]"
   ]
  },
  {
   "cell_type": "code",
   "execution_count": 119,
   "id": "c7039d7d",
   "metadata": {},
   "outputs": [
    {
     "name": "stdout",
     "output_type": "stream",
     "text": [
      "{'role': 'human', 'content': 'Hi, how are you?'}\n"
     ]
    }
   ],
   "source": [
    "message = Message(\n",
    "    role = \"human\",\n",
    "    content = \"Hi, how are you?\"\n",
    ")\n",
    "\n",
    "print(message)"
   ]
  },
  {
   "cell_type": "code",
   "execution_count": 120,
   "id": "973c4039",
   "metadata": {},
   "outputs": [
    {
     "name": "stdout",
     "output_type": "stream",
     "text": [
      "{'messages': [{'role': 'system', 'content': 'You are a helpful assistant named ChatGPT'}, {'role': 'user', 'content': 'Hi, How are you?'}]}\n"
     ]
    }
   ],
   "source": [
    "conversation = Conversation(\n",
    "    messages=[\n",
    "        Message(role=\"system\", content=\"You are a helpful assistant named ChatGPT\"),\n",
    "        Message(role=\"user\", content=\"Hi, How are you?\")\n",
    "    ]\n",
    ")\n",
    "\n",
    "print(conversation)"
   ]
  },
  {
   "cell_type": "markdown",
   "id": "707965eb",
   "metadata": {},
   "source": [
    "Function to make LLM calls"
   ]
  },
  {
   "cell_type": "code",
   "execution_count": 121,
   "id": "09c031f9",
   "metadata": {},
   "outputs": [],
   "source": [
    "import httpx"
   ]
  },
  {
   "cell_type": "code",
   "execution_count": null,
   "id": "139d8a66",
   "metadata": {},
   "outputs": [],
   "source": [
    "def call_llm(conversation: Conversation):\n",
    "    \"\"\"\n",
    "    Sends an API request to LLM Provider\n",
    "\n",
    "    Parameters:\n",
    "        - conversation: Conversation History\n",
    "\n",
    "    Returns:\n",
    "        - response: Raw response from Provider\n",
    "    \"\"\"\n",
    "    # Prepare Request Body\n",
    "    body = {\n",
    "        \"model\": DEFAULT_MODEL,\n",
    "        \"messages\": conversation[\"messages\"]\n",
    "    }\n",
    "\n",
    "    # Headers\n",
    "    headers = {\n",
    "        \"Authorization\": f\"Bearer {AUTH_KEY}\",\n",
    "        \"Content-Type\": \"application/json\"\n",
    "    }\n",
    "\n",
    "    with httpx.Client() as client:\n",
    "        response = client.post(\n",
    "            url = API_ENDPOINT,\n",
    "            json = body,\n",
    "            headers = headers,\n",
    "            timeout = 600 # seconds\n",
    "        )\n",
    "\n",
    "    response.raise_for_status()\n",
    "\n",
    "    return response\n",
    "\n",
    "\n",
    "def preprocess(system_prompt: str, user_prompt: str):\n",
    "    \"\"\"\n",
    "    Takes input a system prompt and user prompt and\n",
    "    creates a conversation history.\n",
    "    \"\"\"\n",
    "    conversation = Conversation(\n",
    "        messages=[\n",
    "            Message(role=\"system\", content=system_prompt),\n",
    "            Message(role=\"user\", content=user_prompt)\n",
    "        ]\n",
    "    )\n",
    "    return conversation\n",
    "\n",
    "\n",
    "def postprocess(response: httpx.Response):\n",
    "    \"\"\"\n",
    "    Extracts the LLM response from the raw response\n",
    "    from the LLM Provider.\n",
    "    \"\"\"\n",
    "    response = response.json()\n",
    "    message = Message(\n",
    "        role = \"ai\",\n",
    "        content = response[\"choices\"][0][\"message\"][\"content\"]\n",
    "    )\n",
    "    return message"
   ]
  },
  {
   "cell_type": "markdown",
   "id": "be43f28a",
   "metadata": {},
   "source": [
    "Start a conversation"
   ]
  },
  {
   "cell_type": "code",
   "execution_count": 123,
   "id": "bf165dce",
   "metadata": {},
   "outputs": [],
   "source": [
    "system_prompt = \"\"\"\n",
    "You are a helpful AI assistant.\n",
    "\"\"\"\n",
    "\n",
    "user_prompt = \"Help me write a simple python code to print first N prime numbers using recursion\""
   ]
  },
  {
   "cell_type": "code",
   "execution_count": 124,
   "id": "bfd451a4",
   "metadata": {},
   "outputs": [],
   "source": [
    "# create a conversation\n",
    "conversation = preprocess(system_prompt, user_prompt)\n",
    "\n",
    "# send conversation to LLM\n",
    "api_response = call_llm(conversation)\n",
    "\n",
    "# postprocess the response\n",
    "llm_response = postprocess(api_response)"
   ]
  },
  {
   "cell_type": "code",
   "execution_count": 125,
   "id": "80fd2ca7",
   "metadata": {},
   "outputs": [
    {
     "name": "stdout",
     "output_type": "stream",
     "text": [
      "{'role': 'ai', 'content': '\\n\\nHere\\'s a well-documented Python code to print the first `N` prime numbers using recursion:\\n\\n---\\n\\n```python\\ndef first_n_primes(n):\\n    def is_prime(num, i=2):\\n        \"\"\"\\n        Recursively checks if a number is prime by testing divisibility \\n        from 2 up to the square root of the number.\\n        \"\"\"\\n        if i * i > num:\\n            return True\\n        if num % i == 0:\\n            return False\\n        return is_prime(num, i + 1)\\n\\n    def helper(n, current):\\n        \"\"\"\\n        Recursive helper function to build a list of the first N primes.\\n        - Base case: when n == 0, return an empty list.\\n        - If the current number is prime, add it as the first element \\n          and call helper with n-1 for the next prime.\\n        - If not a prime, continue checking the next number.\\n        \"\"\"\\n        if n == 0:\\n            return []  # Base case: no more primes to collect\\n        if is_prime(current):\\n            return [current] + helper(n - 1, current + 1)  # Add current prime and check next number for remaining primes\\n        else:\\n            return helper(n, current + 1)  # Move to the next number and continue searching\\n\\n    if n < 0:\\n        return []  # Invalid input: return empty list\\n    return helper(n, 2)  # Start the prime-search from 2\\n\\n\\n# Example usage\\nif __name__ == \"__main__\":\\n    n = int(input(\"Enter the number of primes to print: \"))\\n    print(first_n_primes(n))\\n```\\n\\n---\\n\\n### 🧠 How It Works\\n\\n1. **`first_n_primes(n)`**:\\n   - This is the main function that prints the first `n` prime numbers.\\n   - It ensures input is valid and calls the recursive helper function.\\n   \\n2. **`is_prime(num, i=2)`**:\\n   - A helper that checks if a number is prime recursively.\\n   - It evaluates divisibility from `2` up to `√num`.\\n   - If no divisors are found, it returns `True`.\\n\\n3. **`helper(n, current)`**:\\n   - This recursive function accumulates the primes in a list.\\n   - It takes two parameters:\\n     - `n`: the number of primes still to collect.\\n     - `current`: the current number being tested for primality.\\n   - When `n == 0`, it returns an empty list, ending the recursion.\\n   - If `current` is prime, it gets added to the front of the result and the function calls itself with `n - 1` and the next number.\\n   - If `current` is not prime, it simply tries the next number with `n` unchanged.\\n\\n---\\n\\n### ✅ Example Input/Output\\n\\n**Input:**\\n```\\nEnter the number of primes to print: 5\\n```\\n\\n**Output:**\\n```\\n[2, 3, 5, 7, 11]\\n```\\n\\n---\\n\\n### ⚠️ Limitations\\n\\n- This code uses recursion for both prime detection and list construction. While this is elegant for a small value of `n`, it will **hit Python’s recursion depth limit** (default is 1000) for larger values (e.g., `n = 1000` or more).\\n- Use this implementation for **small values** of `N`.\\n\\n---\\n\\n### 🛠️ Further Optimization (Optional)\\n\\nIf a user wants to generate a large number of primes, recursion isn\\'t the most efficient or safe method. However, in true recursion spirit, and within the scope of this task, this implementation is elegant and simple for educational purposes.\\n\\nWould you like a more optimized version using iteration, or an alternative using memoization?'}\n"
     ]
    }
   ],
   "source": [
    "print(llm_response)"
   ]
  }
 ],
 "metadata": {
  "kernelspec": {
   "display_name": ".venv",
   "language": "python",
   "name": "python3"
  },
  "language_info": {
   "codemirror_mode": {
    "name": "ipython",
    "version": 3
   },
   "file_extension": ".py",
   "mimetype": "text/x-python",
   "name": "python",
   "nbconvert_exporter": "python",
   "pygments_lexer": "ipython3",
   "version": "3.12.11"
  }
 },
 "nbformat": 4,
 "nbformat_minor": 5
}
