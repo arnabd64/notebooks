{
 "cells": [
  {
   "cell_type": "code",
   "execution_count": null,
   "id": "17f69aed",
   "metadata": {},
   "outputs": [],
   "source": [
    "import os\n",
    "\n",
    "os.environ[\"OPENAI_API_BASE\"] = \"\"\n",
    "os.environ[\"OPENAI_API_KEY\"] = \"sk-hVV5pRvA8T7ZYN6pO9_ZkA\"\n",
    "os.environ[\"OPENAI_API_MODEL\"] = \"cerebras/qwen-3-32b\""
   ]
  },
  {
   "cell_type": "code",
   "execution_count": 23,
   "id": "137369a0",
   "metadata": {},
   "outputs": [],
   "source": [
    "from openai import OpenAI"
   ]
  },
  {
   "cell_type": "code",
   "execution_count": 24,
   "id": "a13a385d",
   "metadata": {},
   "outputs": [],
   "source": [
    "from typing import TypedDict, Literal, Optional, List\n",
    "\n",
    "class Message(TypedDict):\n",
    "    \"\"\"\n",
    "    Schema for a single message.\n",
    "\n",
    "    Attributes:\n",
    "        - role: Any one of system, user or ai\n",
    "    \"\"\"\n",
    "    role: Literal[\"system\", \"user\", \"ai\"]\n",
    "    message: str\n",
    "\n",
    "\n",
    "class Conversation(TypedDict):\n",
    "    messages: Optional[List[Message]]"
   ]
  },
  {
   "cell_type": "code",
   "execution_count": 25,
   "id": "1d5d51f9",
   "metadata": {},
   "outputs": [],
   "source": [
    "def preprocess(system_prompt: str, user_prompt: str):\n",
    "    \"\"\"\n",
    "    Takes input a system prompt and user prompt and\n",
    "    creates a conversation history.\n",
    "    \"\"\"\n",
    "    conversation = Conversation(\n",
    "        messages=[\n",
    "            Message(role=\"system\", content=system_prompt),\n",
    "            Message(role=\"user\", content=user_prompt)\n",
    "        ]\n",
    "    )\n",
    "    return conversation"
   ]
  },
  {
   "cell_type": "code",
   "execution_count": 26,
   "id": "a28d20b3",
   "metadata": {},
   "outputs": [],
   "source": [
    "system_prompt = \"\"\"\n",
    "You are a helpful AI assistant.\n",
    "\"\"\"\n",
    "\n",
    "user_prompt = \"Help me write a simple python code to print first N prime numbers using recursion\""
   ]
  },
  {
   "cell_type": "code",
   "execution_count": 27,
   "id": "5eded420",
   "metadata": {},
   "outputs": [],
   "source": [
    "# create a conversation\n",
    "conversation = preprocess(system_prompt, user_prompt)\n",
    "\n",
    "# call llm\n",
    "client = OpenAI(\n",
    "    api_key = os.getenv(\"OPENAI_API_KEY\"),\n",
    "    base_url = os.getenv(\"OPENAI_API_BASE\")\n",
    ")\n",
    "\n",
    "\n",
    "response = client.chat.completions.create(\n",
    "    model = os.getenv(\"OPENAI_API_MODEL\"),\n",
    "    messages = conversation[\"messages\"]\n",
    ")"
   ]
  },
  {
   "cell_type": "code",
   "execution_count": 30,
   "id": "ff091a68",
   "metadata": {},
   "outputs": [
    {
     "data": {
      "text/plain": [
       "'\\n\\nTo print the first **N prime numbers** using **recursion**, we can take a recursive approach where we define a function to **check if a number is prime** and another recursive function that **builds the list of primes** by checking numbers in sequence.\\n\\nHere is a clean and well-structured Python program that does exactly this:\\n\\n---\\n\\n### ✅ Python Code: Print First N Prime Numbers Using Recursion\\n\\n```python\\ndef is_prime(n, divisor=2):\\n    \"\"\"\\n    Recursive helper function to check if a number is prime.\\n    Returns True if \\'n\\' is prime, False otherwise.\\n    \"\"\"\\n    if n < 2:\\n        return False\\n    if divisor * divisor > n:\\n        return True\\n    if n % divisor == 0:\\n        return False\\n    return is_prime(n, divisor + 1)\\n\\ndef get_first_n_primes(n):\\n    \"\"\"\\n    Recursively builds and returns a list of the first n prime numbers.\\n    \"\"\"\\n    def helper(n_left, current, primes):\\n        \"\"\"\\n        Recursive helper that accumulates the list of primes.\\n        \"\"\"\\n        if n_left == 0:\\n            return primes\\n        if is_prime(current):\\n            return helper(n_left - 1, current + 1, primes + [current])\\n        else:\\n            return helper(n_left, current + 1, primes)\\n    \\n    return helper(n, 2, [])\\n\\nif __name__ == \"__main__\":\\n    n = int(input(\"Enter the number of primes to print: \"))\\n    primes = get_first_n_primes(n)\\n    print(f\"The first {n} prime numbers are: {primes}\")\\n```\\n\\n---\\n\\n### 💡 How This Works\\n\\n- **`is_prime(n, divisor)`**:\\n  - Base cases include numbers less than 2, and checks to see if `divisor * divisor > n` to avoid redundant checks beyond the square root.\\n  - It returns `False` if `n` is divisible by `divisor`, else continues checking with the next divisor recursively.\\n\\n- **Recursive builder**:\\n  - **`helper(n_left, current, primes)`** starts at `current = 2` and goes upward.\\n  - If it finds a prime, it adds it to the list and reduces the number of primes left to find by 1.\\n  - If it doesn\\'t, it just checks the next number.\\n  - The recursion builds the list by passing the updated list of primes in each step.\\n\\n---\\n\\n### 📌 Sample Output\\n\\nFor input `n = 5`:\\n\\n```\\nThe first 5 prime numbers are: [2, 3, 5, 7, 11]\\n```\\n\\n---\\n\\n### 🧠 Recursion Principles Applied\\n\\n- The `get_first_n_primes` function calls its helper with increasing numbers to test for primality.\\n- Each helper call either stops collecting when the count is met (`n_left == 0`) or continues checking the next number.\\n- Prime checking itself is implemented recursively using the definition that if a number isn\\'t divisible by any number up to its square root, it is prime.\\n\\nThis approach is a good example of combining multiple levels of recursion in Python for algorithmic tasks like prime number generation.'"
      ]
     },
     "execution_count": 30,
     "metadata": {},
     "output_type": "execute_result"
    }
   ],
   "source": [
    "response.choices[0].message.content"
   ]
  }
 ],
 "metadata": {
  "kernelspec": {
   "display_name": ".venv",
   "language": "python",
   "name": "python3"
  },
  "language_info": {
   "codemirror_mode": {
    "name": "ipython",
    "version": 3
   },
   "file_extension": ".py",
   "mimetype": "text/x-python",
   "name": "python",
   "nbconvert_exporter": "python",
   "pygments_lexer": "ipython3",
   "version": "3.12.11"
  }
 },
 "nbformat": 4,
 "nbformat_minor": 5
}
