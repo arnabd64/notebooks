{
 "cells": [
  {
   "cell_type": "code",
   "execution_count": 75,
   "id": "c2dcdf44",
   "metadata": {},
   "outputs": [],
   "source": [
    "import numpy as np"
   ]
  },
  {
   "cell_type": "markdown",
   "id": "258d101c",
   "metadata": {},
   "source": [
    "Numpy is a python package for implementing Mathematical structures like Vectors, Matrices and n-dimensional arrays."
   ]
  },
  {
   "cell_type": "markdown",
   "id": "fe1b296c",
   "metadata": {},
   "source": [
    "1. Create arrays"
   ]
  },
  {
   "cell_type": "code",
   "execution_count": 76,
   "id": "631b5b4f",
   "metadata": {},
   "outputs": [
    {
     "name": "stdout",
     "output_type": "stream",
     "text": [
      "Vector:\n",
      "[1 2 3]\n",
      "\n",
      "Matrix\n",
      "[[1 2]\n",
      " [3 4]]\n"
     ]
    }
   ],
   "source": [
    "# Vectors\n",
    "a = np.array([1, 2, 3])\n",
    "print(\"Vector:\")\n",
    "print(a)\n",
    "print(\"\")\n",
    "\n",
    "# Matrix\n",
    "b = np.array([[1, 2], [3, 4]])\n",
    "print(\"Matrix\")\n",
    "print(b)"
   ]
  },
  {
   "cell_type": "markdown",
   "id": "578105ef",
   "metadata": {},
   "source": [
    "2. Shape and Data Types"
   ]
  },
  {
   "cell_type": "code",
   "execution_count": 77,
   "metadata": {},
   "outputs": [
    {
     "name": "stdout",
     "output_type": "stream",
     "text": [
      "Shape = (3,)\n",
      "Size = 3\n",
      "dtype = int64\n"
     ]
    }
   ],
   "source": [
    "print(f\"Shape = {a.shape}\")\n",
    "print(f\"Size = {a.size}\")\n",
    "print(f\"dtype = {a.dtype}\")"
   ]
  },
  {
   "cell_type": "code",
   "execution_count": 78,
   "id": "69f5dac3",
   "metadata": {},
   "outputs": [
    {
     "name": "stdout",
     "output_type": "stream",
     "text": [
      "Shape = (2, 2)\n",
      "Size = 4\n",
      "dtype = int64\n"
     ]
    }
   ],
   "source": [
    "print(f\"Shape = {b.shape}\")\n",
    "print(f\"Size = {b.size}\")\n",
    "print(f\"dtype = {b.dtype}\")"
   ]
  },
  {
   "cell_type": "markdown",
   "id": "14c233b2",
   "metadata": {},
   "source": [
    "3. Special Matrices"
   ]
  },
  {
   "cell_type": "code",
   "execution_count": 79,
   "id": "7872d1ad",
   "metadata": {},
   "outputs": [
    {
     "name": "stdout",
     "output_type": "stream",
     "text": [
      "[[0. 0. 0.]\n",
      " [0. 0. 0.]]\n",
      "\n",
      "[[1. 1.]\n",
      " [1. 1.]\n",
      " [1. 1.]]\n",
      "\n",
      "[[0.35297033 0.45056241]\n",
      " [0.20462517 0.56487284]]\n",
      "\n",
      "[[1. 0. 0.]\n",
      " [0. 1. 0.]\n",
      " [0. 0. 1.]]\n"
     ]
    }
   ],
   "source": [
    "zeros = np.zeros((2, 3))\n",
    "ones = np.ones((3, 2))\n",
    "rand = np.random.rand(2, 2)\n",
    "identity = np.eye(3)\n",
    "\n",
    "print(zeros)\n",
    "print(\"\")\n",
    "\n",
    "print(ones)\n",
    "print(\"\")\n",
    "\n",
    "print(rand)\n",
    "print(\"\")\n",
    "\n",
    "print(identity)\n"
   ]
  },
  {
   "cell_type": "markdown",
   "id": "ef1e948f",
   "metadata": {},
   "source": [
    "4. Reshaping"
   ]
  },
  {
   "cell_type": "code",
   "execution_count": 80,
   "id": "3210b0ca",
   "metadata": {},
   "outputs": [
    {
     "name": "stdout",
     "output_type": "stream",
     "text": [
      "[0 1 2 3 4 5 6 7 8]\n",
      "\n",
      "[[0 1 2]\n",
      " [3 4 5]\n",
      " [6 7 8]]\n"
     ]
    }
   ],
   "source": [
    "x = np.arange(9)\n",
    "print(x)\n",
    "print(\"\")\n",
    "\n",
    "x = x.reshape((3, 3))\n",
    "print(x)"
   ]
  },
  {
   "cell_type": "markdown",
   "id": "7373f124",
   "metadata": {},
   "source": [
    "5. Arithmetic"
   ]
  },
  {
   "cell_type": "code",
   "execution_count": 81,
   "metadata": {},
   "outputs": [
    {
     "name": "stdout",
     "output_type": "stream",
     "text": [
      "[5 7 9]\n",
      "[ 4 10 18]\n",
      "[1 4 9]\n"
     ]
    }
   ],
   "source": [
    "a = np.array([1, 2, 3])\n",
    "b = np.array([4, 5, 6])\n",
    "\n",
    "print(a + b)   # [5 7 9]\n",
    "print(a * b)   # [4 10 18]\n",
    "print(a ** 2)  # [1 4 9]"
   ]
  },
  {
   "cell_type": "code",
   "execution_count": 82,
   "id": "54cc2aa7",
   "metadata": {},
   "outputs": [
    {
     "name": "stdout",
     "output_type": "stream",
     "text": [
      "[[ 7 16  7  9]\n",
      " [ 6 13 14  9]\n",
      " [ 6  8 15 12]\n",
      " [ 3 10  7 10]]\n",
      "\n",
      "[[ 48 125 114  94]\n",
      " [ 53 113  94 104]\n",
      " [ 54  98 112  96]\n",
      " [ 45  94 105  80]]\n",
      "\n"
     ]
    }
   ],
   "source": [
    "# mathematical operations\n",
    "x = np.random.randint(low=1, high=9, size=(4,4))\n",
    "y = np.random.randint(low=1, high=9, size=(4,4))\n",
    "\n",
    "print(np.add(x, y))\n",
    "print(\"\")\n",
    "\n",
    "print(np.matmul(x, y))\n",
    "print(\"\")"
   ]
  },
  {
   "cell_type": "markdown",
   "id": "2dc49b66",
   "metadata": {},
   "source": [
    "6. Slicing"
   ]
  },
  {
   "cell_type": "code",
   "execution_count": 83,
   "id": "e1c856df",
   "metadata": {},
   "outputs": [
    {
     "name": "stdout",
     "output_type": "stream",
     "text": [
      "[[47 58 37]\n",
      " [47 46  7]\n",
      " [41 79 26]]\n",
      "\n",
      "58\n",
      "[58 46 79]\n",
      "[41 79 26]\n",
      "[[47 58 37]\n",
      " [47 46  7]]\n"
     ]
    }
   ],
   "source": [
    "a = np.random.randint(low=0, high=100, size=(3,3))\n",
    "print(a)\n",
    "print(\"\")\n",
    "\n",
    "print(a[0, 1])   # First Row, Second Column  \n",
    "print(a[:, 1])   # Second Column\n",
    "print(a[2, :])   # Third Column\n",
    "print(a[[0,1], :]) # First 2 rows\n"
   ]
  },
  {
   "cell_type": "code",
   "execution_count": 84,
   "id": "b7a64f20",
   "metadata": {},
   "outputs": [
    {
     "name": "stdout",
     "output_type": "stream",
     "text": [
      "[[40 33 46]\n",
      " [ 5 48 53]\n",
      " [17 36 67]]\n",
      "\n",
      "345\n",
      "38.333333333333336\n",
      "[40 48 67]\n",
      "[33  5 17]\n"
     ]
    }
   ],
   "source": [
    "a = np.random.randint(low=0, high=100, size=(3,3))\n",
    "print(a)\n",
    "print(\"\")\n",
    "\n",
    "print(a.sum())          \n",
    "print(a.mean())         \n",
    "print(a.max(axis=0))    # column-wise max\n",
    "print(a.min(axis=1))    # row-wise min\n"
   ]
  },
  {
   "cell_type": "markdown",
   "id": "82567c93",
   "metadata": {},
   "source": [
    "7. Masking"
   ]
  },
  {
   "cell_type": "code",
   "execution_count": 85,
   "id": "54cee44d",
   "metadata": {},
   "outputs": [
    {
     "name": "stdout",
     "output_type": "stream",
     "text": [
      "[[6 3 8 2]\n",
      " [4 1 0 6]\n",
      " [6 8 7 5]\n",
      " [4 4 3 5]]\n",
      "\n"
     ]
    }
   ],
   "source": [
    "a = np.random.randint(low=0, high=9, size=(4,4))\n",
    "print(a)\n",
    "print(\"\")"
   ]
  },
  {
   "cell_type": "code",
   "execution_count": 86,
   "id": "ae9bacfc",
   "metadata": {},
   "outputs": [
    {
     "name": "stdout",
     "output_type": "stream",
     "text": [
      "[[ True False  True False]\n",
      " [False False False  True]\n",
      " [ True  True  True False]\n",
      " [False False False False]]\n"
     ]
    }
   ],
   "source": [
    "mask = a > 5  # Logical Condition or Test\n",
    "print(mask)"
   ]
  },
  {
   "cell_type": "code",
   "execution_count": 87,
   "id": "af384630",
   "metadata": {},
   "outputs": [
    {
     "data": {
      "text/plain": [
       "array([3, 2, 4, 1, 0, 5, 4, 4, 3, 5])"
      ]
     },
     "execution_count": 87,
     "metadata": {},
     "output_type": "execute_result"
    }
   ],
   "source": [
    "a[mask]  # masked elements\n",
    "a[~mask] # unmasked elements"
   ]
  },
  {
   "cell_type": "code",
   "execution_count": 88,
   "id": "9d427b5f",
   "metadata": {},
   "outputs": [
    {
     "name": "stdout",
     "output_type": "stream",
     "text": [
      "[[-1  3 -1  2]\n",
      " [ 4  1  0 -1]\n",
      " [-1 -1 -1  5]\n",
      " [ 4  4  3  5]]\n"
     ]
    }
   ],
   "source": [
    "a[mask] = -1\n",
    "print(a)"
   ]
  },
  {
   "cell_type": "markdown",
   "id": "6ede9778",
   "metadata": {},
   "source": [
    "8. Null & Infinity Special Values"
   ]
  },
  {
   "cell_type": "code",
   "execution_count": 97,
   "id": "2e0e8166",
   "metadata": {},
   "outputs": [
    {
     "name": "stdout",
     "output_type": "stream",
     "text": [
      "[[     nan      nan      nan 0.3582   0.2688   0.2708   0.1399  ]\n",
      " [0.11444  0.4846   0.1497   0.4622        nan 0.1987        nan]\n",
      " [0.1808        nan      nan      nan 0.254    0.254    0.314   ]\n",
      " [     nan 0.3015        nan      nan      nan      nan 0.1747  ]\n",
      " [     nan 0.1759   0.3594   0.2603        nan      nan      nan]\n",
      " [     nan 0.3206        nan 0.1841   0.00874       nan 0.02373 ]\n",
      " [     nan      nan      nan 0.09235  0.4888   0.001389      nan]]\n"
     ]
    }
   ],
   "source": [
    "a = np.random.random(size=(7,7)).astype(\"float16\")\n",
    "a[a > 0.5] = np.nan\n",
    "print(a)"
   ]
  },
  {
   "cell_type": "code",
   "execution_count": 108,
   "id": "bf141f30",
   "metadata": {},
   "outputs": [
    {
     "name": "stdout",
     "output_type": "stream",
     "text": [
      "[[0.316    0.3157   0.311    0.492        -inf 0.3916       -inf]\n",
      " [0.412        -inf     -inf     -inf     -inf 0.1815       -inf]\n",
      " [    -inf     -inf 0.251        -inf     -inf     -inf     -inf]\n",
      " [    -inf 0.426        -inf     -inf 0.4072       -inf 0.155   ]\n",
      " [0.3086       -inf 0.4016       -inf 0.4844       -inf 0.05118 ]\n",
      " [0.3684       -inf     -inf 0.0998       -inf 0.3892       -inf]\n",
      " [0.4675       -inf 0.2416       -inf 0.012115 0.4375   0.2551  ]]\n"
     ]
    }
   ],
   "source": [
    "a = np.random.random(size=(7,7)).astype(\"float16\")\n",
    "a[a > 0.5] = -1 * np.inf\n",
    "print(a)"
   ]
  },
  {
   "cell_type": "markdown",
   "id": "452748ad",
   "metadata": {},
   "source": [
    "9. Sorting"
   ]
  },
  {
   "cell_type": "code",
   "execution_count": null,
   "id": "8b6659e1",
   "metadata": {},
   "outputs": [
    {
     "name": "stdout",
     "output_type": "stream",
     "text": [
      "[0.1162 0.2374 0.3677 0.427  0.4468 0.5693 0.722  0.748  0.7627 0.904 ]\n"
     ]
    }
   ],
   "source": [
    "x = np.random.random(size=(10,)).astype(\"float16\")\n",
    "print(np.sort(x))"
   ]
  },
  {
   "cell_type": "code",
   "execution_count": null,
   "id": "bcc718d8",
   "metadata": {},
   "outputs": [],
   "source": []
  }
 ],
 "metadata": {
  "kernelspec": {
   "display_name": ".venv",
   "language": "python",
   "name": "python3"
  },
  "language_info": {
   "codemirror_mode": {
    "name": "ipython",
    "version": 3
   },
   "file_extension": ".py",
   "mimetype": "text/x-python",
   "name": "python",
   "nbconvert_exporter": "python",
   "pygments_lexer": "ipython3",
   "version": "3.12.11"
  }
 },
 "nbformat": 4,
 "nbformat_minor": 5
}
