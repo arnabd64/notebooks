{
 "cells": [
  {
   "cell_type": "code",
   "execution_count": 1,
   "id": "d3c8b68b",
   "metadata": {},
   "outputs": [],
   "source": [
    "import pandas as pd\n",
    "from IPython.display import display\n",
    "import numpy as np"
   ]
  },
  {
   "cell_type": "markdown",
   "id": "0e21319c",
   "metadata": {},
   "source": [
    "Pandas is a package built using numpy used for data analysis and manipulation."
   ]
  },
  {
   "cell_type": "code",
   "execution_count": 2,
   "id": "eb3d60b7",
   "metadata": {},
   "outputs": [
    {
     "data": {
      "text/html": [
       "<div>\n",
       "<style scoped>\n",
       "    .dataframe tbody tr th:only-of-type {\n",
       "        vertical-align: middle;\n",
       "    }\n",
       "\n",
       "    .dataframe tbody tr th {\n",
       "        vertical-align: top;\n",
       "    }\n",
       "\n",
       "    .dataframe thead th {\n",
       "        text-align: right;\n",
       "    }\n",
       "</style>\n",
       "<table border=\"1\" class=\"dataframe\">\n",
       "  <thead>\n",
       "    <tr style=\"text-align: right;\">\n",
       "      <th></th>\n",
       "      <th>Name</th>\n",
       "      <th>Age</th>\n",
       "      <th>City</th>\n",
       "    </tr>\n",
       "  </thead>\n",
       "  <tbody>\n",
       "    <tr>\n",
       "      <th>0</th>\n",
       "      <td>Alice</td>\n",
       "      <td>25</td>\n",
       "      <td>Delhi</td>\n",
       "    </tr>\n",
       "    <tr>\n",
       "      <th>1</th>\n",
       "      <td>Bob</td>\n",
       "      <td>30</td>\n",
       "      <td>Mumbai</td>\n",
       "    </tr>\n",
       "    <tr>\n",
       "      <th>2</th>\n",
       "      <td>Charlie</td>\n",
       "      <td>35</td>\n",
       "      <td>Bangalore</td>\n",
       "    </tr>\n",
       "  </tbody>\n",
       "</table>\n",
       "</div>"
      ],
      "text/plain": [
       "      Name  Age       City\n",
       "0    Alice   25      Delhi\n",
       "1      Bob   30     Mumbai\n",
       "2  Charlie   35  Bangalore"
      ]
     },
     "metadata": {},
     "output_type": "display_data"
    }
   ],
   "source": [
    "# Column Name : Array compatible list of Values\n",
    "data = {\n",
    "    'Name': ['Alice', 'Bob', 'Charlie'],\n",
    "    'Age': [25, 30, 35],\n",
    "    'City': ['Delhi', 'Mumbai', 'Bangalore']\n",
    "}\n",
    "df = pd.DataFrame(data)\n",
    "display(df)"
   ]
  },
  {
   "cell_type": "markdown",
   "id": "1caf0a6f",
   "metadata": {},
   "source": [
    "1. Load data from CSV"
   ]
  },
  {
   "cell_type": "code",
   "execution_count": 3,
   "id": "c192ed4a",
   "metadata": {},
   "outputs": [
    {
     "data": {
      "text/html": [
       "<div>\n",
       "<style scoped>\n",
       "    .dataframe tbody tr th:only-of-type {\n",
       "        vertical-align: middle;\n",
       "    }\n",
       "\n",
       "    .dataframe tbody tr th {\n",
       "        vertical-align: top;\n",
       "    }\n",
       "\n",
       "    .dataframe thead th {\n",
       "        text-align: right;\n",
       "    }\n",
       "</style>\n",
       "<table border=\"1\" class=\"dataframe\">\n",
       "  <thead>\n",
       "    <tr style=\"text-align: right;\">\n",
       "      <th></th>\n",
       "      <th>Customer ID</th>\n",
       "      <th>First Name</th>\n",
       "      <th>Last Name</th>\n",
       "      <th>Email ID</th>\n",
       "      <th>Phone Number</th>\n",
       "    </tr>\n",
       "  </thead>\n",
       "  <tbody>\n",
       "    <tr>\n",
       "      <th>0</th>\n",
       "      <td>CUST001</td>\n",
       "      <td>Amit</td>\n",
       "      <td>Sharma</td>\n",
       "      <td>amit.sharma@example.com</td>\n",
       "      <td>+91-9876543210</td>\n",
       "    </tr>\n",
       "    <tr>\n",
       "      <th>1</th>\n",
       "      <td>CUST002</td>\n",
       "      <td>Priya</td>\n",
       "      <td>Mehra</td>\n",
       "      <td>priya.mehra@example.com</td>\n",
       "      <td>+91-9123456789</td>\n",
       "    </tr>\n",
       "    <tr>\n",
       "      <th>2</th>\n",
       "      <td>CUST003</td>\n",
       "      <td>Rahul</td>\n",
       "      <td>Verma</td>\n",
       "      <td>rahul.verma@example.com</td>\n",
       "      <td>+91-9988776655</td>\n",
       "    </tr>\n",
       "    <tr>\n",
       "      <th>3</th>\n",
       "      <td>CUST004</td>\n",
       "      <td>Sneha</td>\n",
       "      <td>Nair</td>\n",
       "      <td>sneha.nair@example.com</td>\n",
       "      <td>+91-9090909090</td>\n",
       "    </tr>\n",
       "    <tr>\n",
       "      <th>4</th>\n",
       "      <td>CUST005</td>\n",
       "      <td>Karan</td>\n",
       "      <td>Patel</td>\n",
       "      <td>karan.patel@example.com</td>\n",
       "      <td>+91-9871234567</td>\n",
       "    </tr>\n",
       "  </tbody>\n",
       "</table>\n",
       "</div>"
      ],
      "text/plain": [
       "  Customer ID First Name Last Name                 Email ID    Phone Number\n",
       "0     CUST001       Amit    Sharma  amit.sharma@example.com  +91-9876543210\n",
       "1     CUST002      Priya     Mehra  priya.mehra@example.com  +91-9123456789\n",
       "2     CUST003      Rahul     Verma  rahul.verma@example.com  +91-9988776655\n",
       "3     CUST004      Sneha      Nair   sneha.nair@example.com  +91-9090909090\n",
       "4     CUST005      Karan     Patel  karan.patel@example.com  +91-9871234567"
      ]
     },
     "metadata": {},
     "output_type": "display_data"
    }
   ],
   "source": [
    "df = pd.read_csv(\"data.csv\")\n",
    "display(df)"
   ]
  },
  {
   "cell_type": "code",
   "execution_count": 4,
   "id": "71a89fde",
   "metadata": {},
   "outputs": [
    {
     "data": {
      "text/plain": [
       "<function pandas.io.xml.read_xml(path_or_buffer: 'FilePath | ReadBuffer[bytes] | ReadBuffer[str]', *, xpath: 'str' = './*', namespaces: 'dict[str, str] | None' = None, elems_only: 'bool' = False, attrs_only: 'bool' = False, names: 'Sequence[str] | None' = None, dtype: 'DtypeArg | None' = None, converters: 'ConvertersArg | None' = None, parse_dates: 'ParseDatesArg | None' = None, encoding: 'str | None' = 'utf-8', parser: 'XMLParsers' = 'lxml', stylesheet: 'FilePath | ReadBuffer[bytes] | ReadBuffer[str] | None' = None, iterparse: 'dict[str, list[str]] | None' = None, compression: 'CompressionOptions' = 'infer', storage_options: 'StorageOptions | None' = None, dtype_backend: 'DtypeBackend | lib.NoDefault' = <no_default>) -> 'DataFrame'>"
      ]
     },
     "execution_count": 4,
     "metadata": {},
     "output_type": "execute_result"
    }
   ],
   "source": [
    "pd.read_excel\n",
    "pd.read_json\n",
    "pd.read_html\n",
    "pd.read_sql  # compatible with SQLAlchemy\n",
    "pd.read_xml"
   ]
  },
  {
   "cell_type": "markdown",
   "id": "3dba42e3",
   "metadata": {},
   "source": [
    "2. Inspect"
   ]
  },
  {
   "cell_type": "code",
   "execution_count": 5,
   "id": "e650504f",
   "metadata": {},
   "outputs": [
    {
     "data": {
      "text/html": [
       "<div>\n",
       "<style scoped>\n",
       "    .dataframe tbody tr th:only-of-type {\n",
       "        vertical-align: middle;\n",
       "    }\n",
       "\n",
       "    .dataframe tbody tr th {\n",
       "        vertical-align: top;\n",
       "    }\n",
       "\n",
       "    .dataframe thead th {\n",
       "        text-align: right;\n",
       "    }\n",
       "</style>\n",
       "<table border=\"1\" class=\"dataframe\">\n",
       "  <thead>\n",
       "    <tr style=\"text-align: right;\">\n",
       "      <th></th>\n",
       "      <th>Customer ID</th>\n",
       "      <th>First Name</th>\n",
       "      <th>Last Name</th>\n",
       "      <th>Email ID</th>\n",
       "      <th>Phone Number</th>\n",
       "    </tr>\n",
       "  </thead>\n",
       "  <tbody>\n",
       "    <tr>\n",
       "      <th>0</th>\n",
       "      <td>CUST001</td>\n",
       "      <td>Amit</td>\n",
       "      <td>Sharma</td>\n",
       "      <td>amit.sharma@example.com</td>\n",
       "      <td>+91-9876543210</td>\n",
       "    </tr>\n",
       "    <tr>\n",
       "      <th>1</th>\n",
       "      <td>CUST002</td>\n",
       "      <td>Priya</td>\n",
       "      <td>Mehra</td>\n",
       "      <td>priya.mehra@example.com</td>\n",
       "      <td>+91-9123456789</td>\n",
       "    </tr>\n",
       "    <tr>\n",
       "      <th>2</th>\n",
       "      <td>CUST003</td>\n",
       "      <td>Rahul</td>\n",
       "      <td>Verma</td>\n",
       "      <td>rahul.verma@example.com</td>\n",
       "      <td>+91-9988776655</td>\n",
       "    </tr>\n",
       "  </tbody>\n",
       "</table>\n",
       "</div>"
      ],
      "text/plain": [
       "  Customer ID First Name Last Name                 Email ID    Phone Number\n",
       "0     CUST001       Amit    Sharma  amit.sharma@example.com  +91-9876543210\n",
       "1     CUST002      Priya     Mehra  priya.mehra@example.com  +91-9123456789\n",
       "2     CUST003      Rahul     Verma  rahul.verma@example.com  +91-9988776655"
      ]
     },
     "metadata": {},
     "output_type": "display_data"
    }
   ],
   "source": [
    "display(df.head(3))"
   ]
  },
  {
   "cell_type": "code",
   "execution_count": 6,
   "id": "a3e4e849",
   "metadata": {},
   "outputs": [
    {
     "data": {
      "text/html": [
       "<div>\n",
       "<style scoped>\n",
       "    .dataframe tbody tr th:only-of-type {\n",
       "        vertical-align: middle;\n",
       "    }\n",
       "\n",
       "    .dataframe tbody tr th {\n",
       "        vertical-align: top;\n",
       "    }\n",
       "\n",
       "    .dataframe thead th {\n",
       "        text-align: right;\n",
       "    }\n",
       "</style>\n",
       "<table border=\"1\" class=\"dataframe\">\n",
       "  <thead>\n",
       "    <tr style=\"text-align: right;\">\n",
       "      <th></th>\n",
       "      <th>Customer ID</th>\n",
       "      <th>First Name</th>\n",
       "      <th>Last Name</th>\n",
       "      <th>Email ID</th>\n",
       "      <th>Phone Number</th>\n",
       "    </tr>\n",
       "  </thead>\n",
       "  <tbody>\n",
       "    <tr>\n",
       "      <th>2</th>\n",
       "      <td>CUST003</td>\n",
       "      <td>Rahul</td>\n",
       "      <td>Verma</td>\n",
       "      <td>rahul.verma@example.com</td>\n",
       "      <td>+91-9988776655</td>\n",
       "    </tr>\n",
       "    <tr>\n",
       "      <th>3</th>\n",
       "      <td>CUST004</td>\n",
       "      <td>Sneha</td>\n",
       "      <td>Nair</td>\n",
       "      <td>sneha.nair@example.com</td>\n",
       "      <td>+91-9090909090</td>\n",
       "    </tr>\n",
       "    <tr>\n",
       "      <th>4</th>\n",
       "      <td>CUST005</td>\n",
       "      <td>Karan</td>\n",
       "      <td>Patel</td>\n",
       "      <td>karan.patel@example.com</td>\n",
       "      <td>+91-9871234567</td>\n",
       "    </tr>\n",
       "  </tbody>\n",
       "</table>\n",
       "</div>"
      ],
      "text/plain": [
       "  Customer ID First Name Last Name                 Email ID    Phone Number\n",
       "2     CUST003      Rahul     Verma  rahul.verma@example.com  +91-9988776655\n",
       "3     CUST004      Sneha      Nair   sneha.nair@example.com  +91-9090909090\n",
       "4     CUST005      Karan     Patel  karan.patel@example.com  +91-9871234567"
      ]
     },
     "metadata": {},
     "output_type": "display_data"
    }
   ],
   "source": [
    "display(df.tail(3))"
   ]
  },
  {
   "cell_type": "code",
   "execution_count": 7,
   "id": "1dec8ed7",
   "metadata": {},
   "outputs": [
    {
     "name": "stdout",
     "output_type": "stream",
     "text": [
      "<class 'pandas.core.frame.DataFrame'>\n",
      "RangeIndex: 5 entries, 0 to 4\n",
      "Data columns (total 5 columns):\n",
      " #   Column        Non-Null Count  Dtype \n",
      "---  ------        --------------  ----- \n",
      " 0   Customer ID   5 non-null      object\n",
      " 1   First Name    5 non-null      object\n",
      " 2   Last Name     5 non-null      object\n",
      " 3   Email ID      5 non-null      object\n",
      " 4   Phone Number  5 non-null      object\n",
      "dtypes: object(5)\n",
      "memory usage: 332.0+ bytes\n"
     ]
    }
   ],
   "source": [
    "df.info()"
   ]
  },
  {
   "cell_type": "code",
   "execution_count": 8,
   "id": "bfe0a47f",
   "metadata": {},
   "outputs": [
    {
     "name": "stdout",
     "output_type": "stream",
     "text": [
      "Shape = (5, 5)\n",
      "Size = 25\n"
     ]
    }
   ],
   "source": [
    "print(f\"Shape = {df.shape}\")\n",
    "print(f\"Size = {df.size}\")"
   ]
  },
  {
   "cell_type": "markdown",
   "id": "c0312318",
   "metadata": {},
   "source": [
    "3. describe()"
   ]
  },
  {
   "cell_type": "code",
   "execution_count": 9,
   "id": "47241321",
   "metadata": {},
   "outputs": [
    {
     "data": {
      "text/html": [
       "<div>\n",
       "<style scoped>\n",
       "    .dataframe tbody tr th:only-of-type {\n",
       "        vertical-align: middle;\n",
       "    }\n",
       "\n",
       "    .dataframe tbody tr th {\n",
       "        vertical-align: top;\n",
       "    }\n",
       "\n",
       "    .dataframe thead th {\n",
       "        text-align: right;\n",
       "    }\n",
       "</style>\n",
       "<table border=\"1\" class=\"dataframe\">\n",
       "  <thead>\n",
       "    <tr style=\"text-align: right;\">\n",
       "      <th></th>\n",
       "      <th>Customer ID</th>\n",
       "      <th>First Name</th>\n",
       "      <th>Last Name</th>\n",
       "      <th>Email ID</th>\n",
       "      <th>Phone Number</th>\n",
       "    </tr>\n",
       "  </thead>\n",
       "  <tbody>\n",
       "    <tr>\n",
       "      <th>count</th>\n",
       "      <td>5</td>\n",
       "      <td>5</td>\n",
       "      <td>5</td>\n",
       "      <td>5</td>\n",
       "      <td>5</td>\n",
       "    </tr>\n",
       "    <tr>\n",
       "      <th>unique</th>\n",
       "      <td>5</td>\n",
       "      <td>5</td>\n",
       "      <td>5</td>\n",
       "      <td>5</td>\n",
       "      <td>5</td>\n",
       "    </tr>\n",
       "    <tr>\n",
       "      <th>top</th>\n",
       "      <td>CUST001</td>\n",
       "      <td>Amit</td>\n",
       "      <td>Sharma</td>\n",
       "      <td>amit.sharma@example.com</td>\n",
       "      <td>+91-9876543210</td>\n",
       "    </tr>\n",
       "    <tr>\n",
       "      <th>freq</th>\n",
       "      <td>1</td>\n",
       "      <td>1</td>\n",
       "      <td>1</td>\n",
       "      <td>1</td>\n",
       "      <td>1</td>\n",
       "    </tr>\n",
       "  </tbody>\n",
       "</table>\n",
       "</div>"
      ],
      "text/plain": [
       "       Customer ID First Name Last Name                 Email ID  \\\n",
       "count            5          5         5                        5   \n",
       "unique           5          5         5                        5   \n",
       "top        CUST001       Amit    Sharma  amit.sharma@example.com   \n",
       "freq             1          1         1                        1   \n",
       "\n",
       "          Phone Number  \n",
       "count                5  \n",
       "unique               5  \n",
       "top     +91-9876543210  \n",
       "freq                 1  "
      ]
     },
     "metadata": {},
     "output_type": "display_data"
    }
   ],
   "source": [
    "display(df.describe())"
   ]
  },
  {
   "cell_type": "markdown",
   "id": "d9a3a64c",
   "metadata": {},
   "source": [
    "4. Access Columns & Rows"
   ]
  },
  {
   "cell_type": "code",
   "execution_count": 10,
   "id": "d13ad26e",
   "metadata": {},
   "outputs": [
    {
     "name": "stdout",
     "output_type": "stream",
     "text": [
      "0    CUST001\n",
      "1    CUST002\n",
      "2    CUST003\n",
      "3    CUST004\n",
      "4    CUST005\n",
      "Name: Customer ID, dtype: object\n"
     ]
    }
   ],
   "source": [
    "print(df[\"Customer ID\"])"
   ]
  },
  {
   "cell_type": "code",
   "execution_count": 11,
   "id": "aad8b699",
   "metadata": {},
   "outputs": [
    {
     "name": "stdout",
     "output_type": "stream",
     "text": [
      "  Customer ID First Name\n",
      "0     CUST001       Amit\n",
      "1     CUST002      Priya\n",
      "2     CUST003      Rahul\n",
      "3     CUST004      Sneha\n",
      "4     CUST005      Karan\n"
     ]
    }
   ],
   "source": [
    "print(df[[\"Customer ID\", \"First Name\"]])"
   ]
  },
  {
   "cell_type": "markdown",
   "id": "49d74302",
   "metadata": {},
   "source": [
    "4A. iloc slicing"
   ]
  },
  {
   "cell_type": "code",
   "execution_count": 12,
   "id": "0cc7384d",
   "metadata": {},
   "outputs": [
    {
     "data": {
      "text/plain": [
       "Customer ID                     CUST001\n",
       "First Name                         Amit\n",
       "Last Name                        Sharma\n",
       "Email ID        amit.sharma@example.com\n",
       "Phone Number             +91-9876543210\n",
       "Name: 0, dtype: object"
      ]
     },
     "execution_count": 12,
     "metadata": {},
     "output_type": "execute_result"
    }
   ],
   "source": [
    "# index based slicing\n",
    "df.iloc[0, :] # First Row"
   ]
  },
  {
   "cell_type": "code",
   "execution_count": 13,
   "id": "aee4f627",
   "metadata": {},
   "outputs": [
    {
     "data": {
      "text/html": [
       "<div>\n",
       "<style scoped>\n",
       "    .dataframe tbody tr th:only-of-type {\n",
       "        vertical-align: middle;\n",
       "    }\n",
       "\n",
       "    .dataframe tbody tr th {\n",
       "        vertical-align: top;\n",
       "    }\n",
       "\n",
       "    .dataframe thead th {\n",
       "        text-align: right;\n",
       "    }\n",
       "</style>\n",
       "<table border=\"1\" class=\"dataframe\">\n",
       "  <thead>\n",
       "    <tr style=\"text-align: right;\">\n",
       "      <th></th>\n",
       "      <th>Customer ID</th>\n",
       "      <th>First Name</th>\n",
       "      <th>Last Name</th>\n",
       "      <th>Email ID</th>\n",
       "      <th>Phone Number</th>\n",
       "    </tr>\n",
       "  </thead>\n",
       "  <tbody>\n",
       "    <tr>\n",
       "      <th>0</th>\n",
       "      <td>CUST001</td>\n",
       "      <td>Amit</td>\n",
       "      <td>Sharma</td>\n",
       "      <td>amit.sharma@example.com</td>\n",
       "      <td>+91-9876543210</td>\n",
       "    </tr>\n",
       "    <tr>\n",
       "      <th>2</th>\n",
       "      <td>CUST003</td>\n",
       "      <td>Rahul</td>\n",
       "      <td>Verma</td>\n",
       "      <td>rahul.verma@example.com</td>\n",
       "      <td>+91-9988776655</td>\n",
       "    </tr>\n",
       "  </tbody>\n",
       "</table>\n",
       "</div>"
      ],
      "text/plain": [
       "  Customer ID First Name Last Name                 Email ID    Phone Number\n",
       "0     CUST001       Amit    Sharma  amit.sharma@example.com  +91-9876543210\n",
       "2     CUST003      Rahul     Verma  rahul.verma@example.com  +91-9988776655"
      ]
     },
     "execution_count": 13,
     "metadata": {},
     "output_type": "execute_result"
    }
   ],
   "source": [
    "df.iloc[[0, 2], :] # Rows 1 and 3"
   ]
  },
  {
   "cell_type": "code",
   "execution_count": 14,
   "id": "d367c4d4",
   "metadata": {},
   "outputs": [
    {
     "data": {
      "text/html": [
       "<div>\n",
       "<style scoped>\n",
       "    .dataframe tbody tr th:only-of-type {\n",
       "        vertical-align: middle;\n",
       "    }\n",
       "\n",
       "    .dataframe tbody tr th {\n",
       "        vertical-align: top;\n",
       "    }\n",
       "\n",
       "    .dataframe thead th {\n",
       "        text-align: right;\n",
       "    }\n",
       "</style>\n",
       "<table border=\"1\" class=\"dataframe\">\n",
       "  <thead>\n",
       "    <tr style=\"text-align: right;\">\n",
       "      <th></th>\n",
       "      <th>First Name</th>\n",
       "      <th>Last Name</th>\n",
       "    </tr>\n",
       "  </thead>\n",
       "  <tbody>\n",
       "    <tr>\n",
       "      <th>0</th>\n",
       "      <td>Amit</td>\n",
       "      <td>Sharma</td>\n",
       "    </tr>\n",
       "    <tr>\n",
       "      <th>1</th>\n",
       "      <td>Priya</td>\n",
       "      <td>Mehra</td>\n",
       "    </tr>\n",
       "    <tr>\n",
       "      <th>2</th>\n",
       "      <td>Rahul</td>\n",
       "      <td>Verma</td>\n",
       "    </tr>\n",
       "    <tr>\n",
       "      <th>3</th>\n",
       "      <td>Sneha</td>\n",
       "      <td>Nair</td>\n",
       "    </tr>\n",
       "    <tr>\n",
       "      <th>4</th>\n",
       "      <td>Karan</td>\n",
       "      <td>Patel</td>\n",
       "    </tr>\n",
       "  </tbody>\n",
       "</table>\n",
       "</div>"
      ],
      "text/plain": [
       "  First Name Last Name\n",
       "0       Amit    Sharma\n",
       "1      Priya     Mehra\n",
       "2      Rahul     Verma\n",
       "3      Sneha      Nair\n",
       "4      Karan     Patel"
      ]
     },
     "execution_count": 14,
     "metadata": {},
     "output_type": "execute_result"
    }
   ],
   "source": [
    "df.iloc[: ,[1, 2]]  # Columns 2, 3"
   ]
  },
  {
   "cell_type": "markdown",
   "id": "d904b5d5",
   "metadata": {},
   "source": [
    "4B. loc slicing"
   ]
  },
  {
   "cell_type": "code",
   "execution_count": 15,
   "id": "94dba6ce",
   "metadata": {},
   "outputs": [
    {
     "data": {
      "text/plain": [
       "0     Amit\n",
       "1    Priya\n",
       "2    Rahul\n",
       "3    Sneha\n",
       "4    Karan\n",
       "Name: First Name, dtype: object"
      ]
     },
     "execution_count": 15,
     "metadata": {},
     "output_type": "execute_result"
    }
   ],
   "source": [
    "# Slicing with column names\n",
    "df.loc[:, \"First Name\"]"
   ]
  },
  {
   "cell_type": "code",
   "execution_count": 16,
   "id": "b890858a",
   "metadata": {},
   "outputs": [
    {
     "data": {
      "text/html": [
       "<div>\n",
       "<style scoped>\n",
       "    .dataframe tbody tr th:only-of-type {\n",
       "        vertical-align: middle;\n",
       "    }\n",
       "\n",
       "    .dataframe tbody tr th {\n",
       "        vertical-align: top;\n",
       "    }\n",
       "\n",
       "    .dataframe thead th {\n",
       "        text-align: right;\n",
       "    }\n",
       "</style>\n",
       "<table border=\"1\" class=\"dataframe\">\n",
       "  <thead>\n",
       "    <tr style=\"text-align: right;\">\n",
       "      <th></th>\n",
       "      <th>First Name</th>\n",
       "      <th>Last Name</th>\n",
       "    </tr>\n",
       "  </thead>\n",
       "  <tbody>\n",
       "    <tr>\n",
       "      <th>0</th>\n",
       "      <td>Amit</td>\n",
       "      <td>Sharma</td>\n",
       "    </tr>\n",
       "    <tr>\n",
       "      <th>1</th>\n",
       "      <td>Priya</td>\n",
       "      <td>Mehra</td>\n",
       "    </tr>\n",
       "    <tr>\n",
       "      <th>2</th>\n",
       "      <td>Rahul</td>\n",
       "      <td>Verma</td>\n",
       "    </tr>\n",
       "    <tr>\n",
       "      <th>3</th>\n",
       "      <td>Sneha</td>\n",
       "      <td>Nair</td>\n",
       "    </tr>\n",
       "  </tbody>\n",
       "</table>\n",
       "</div>"
      ],
      "text/plain": [
       "  First Name Last Name\n",
       "0       Amit    Sharma\n",
       "1      Priya     Mehra\n",
       "2      Rahul     Verma\n",
       "3      Sneha      Nair"
      ]
     },
     "execution_count": 16,
     "metadata": {},
     "output_type": "execute_result"
    }
   ],
   "source": [
    "df.loc[0:3, [\"First Name\", \"Last Name\"]]"
   ]
  },
  {
   "cell_type": "markdown",
   "id": "87a5bfdf",
   "metadata": {},
   "source": [
    "5. Masking (Filtering)"
   ]
  },
  {
   "cell_type": "code",
   "execution_count": 17,
   "id": "319529e6",
   "metadata": {},
   "outputs": [
    {
     "data": {
      "text/html": [
       "<div>\n",
       "<style scoped>\n",
       "    .dataframe tbody tr th:only-of-type {\n",
       "        vertical-align: middle;\n",
       "    }\n",
       "\n",
       "    .dataframe tbody tr th {\n",
       "        vertical-align: top;\n",
       "    }\n",
       "\n",
       "    .dataframe thead th {\n",
       "        text-align: right;\n",
       "    }\n",
       "</style>\n",
       "<table border=\"1\" class=\"dataframe\">\n",
       "  <thead>\n",
       "    <tr style=\"text-align: right;\">\n",
       "      <th></th>\n",
       "      <th>Customer ID</th>\n",
       "      <th>First Name</th>\n",
       "      <th>Last Name</th>\n",
       "      <th>Email ID</th>\n",
       "      <th>Phone Number</th>\n",
       "      <th>Age</th>\n",
       "    </tr>\n",
       "  </thead>\n",
       "  <tbody>\n",
       "    <tr>\n",
       "      <th>0</th>\n",
       "      <td>CUST001</td>\n",
       "      <td>Amit</td>\n",
       "      <td>Sharma</td>\n",
       "      <td>amit.sharma@example.com</td>\n",
       "      <td>+91-9876543210</td>\n",
       "      <td>22</td>\n",
       "    </tr>\n",
       "    <tr>\n",
       "      <th>1</th>\n",
       "      <td>CUST002</td>\n",
       "      <td>Priya</td>\n",
       "      <td>Mehra</td>\n",
       "      <td>priya.mehra@example.com</td>\n",
       "      <td>+91-9123456789</td>\n",
       "      <td>26</td>\n",
       "    </tr>\n",
       "    <tr>\n",
       "      <th>2</th>\n",
       "      <td>CUST003</td>\n",
       "      <td>Rahul</td>\n",
       "      <td>Verma</td>\n",
       "      <td>rahul.verma@example.com</td>\n",
       "      <td>+91-9988776655</td>\n",
       "      <td>60</td>\n",
       "    </tr>\n",
       "    <tr>\n",
       "      <th>3</th>\n",
       "      <td>CUST004</td>\n",
       "      <td>Sneha</td>\n",
       "      <td>Nair</td>\n",
       "      <td>sneha.nair@example.com</td>\n",
       "      <td>+91-9090909090</td>\n",
       "      <td>45</td>\n",
       "    </tr>\n",
       "    <tr>\n",
       "      <th>4</th>\n",
       "      <td>CUST005</td>\n",
       "      <td>Karan</td>\n",
       "      <td>Patel</td>\n",
       "      <td>karan.patel@example.com</td>\n",
       "      <td>+91-9871234567</td>\n",
       "      <td>52</td>\n",
       "    </tr>\n",
       "  </tbody>\n",
       "</table>\n",
       "</div>"
      ],
      "text/plain": [
       "  Customer ID First Name Last Name                 Email ID    Phone Number  \\\n",
       "0     CUST001       Amit    Sharma  amit.sharma@example.com  +91-9876543210   \n",
       "1     CUST002      Priya     Mehra  priya.mehra@example.com  +91-9123456789   \n",
       "2     CUST003      Rahul     Verma  rahul.verma@example.com  +91-9988776655   \n",
       "3     CUST004      Sneha      Nair   sneha.nair@example.com  +91-9090909090   \n",
       "4     CUST005      Karan     Patel  karan.patel@example.com  +91-9871234567   \n",
       "\n",
       "   Age  \n",
       "0   22  \n",
       "1   26  \n",
       "2   60  \n",
       "3   45  \n",
       "4   52  "
      ]
     },
     "metadata": {},
     "output_type": "display_data"
    }
   ],
   "source": [
    "# add an age column\n",
    "df[\"Age\"] = np.random.randint(low=18, high=65, size=df[\"Customer ID\"].size)\n",
    "display(df)"
   ]
  },
  {
   "cell_type": "code",
   "execution_count": 18,
   "id": "72f7288f",
   "metadata": {},
   "outputs": [
    {
     "data": {
      "text/plain": [
       "0    False\n",
       "1    False\n",
       "2     True\n",
       "3    False\n",
       "4     True\n",
       "Name: Age, dtype: bool"
      ]
     },
     "execution_count": 18,
     "metadata": {},
     "output_type": "execute_result"
    }
   ],
   "source": [
    "mask = df[\"Age\"] > 45\n",
    "mask"
   ]
  },
  {
   "cell_type": "code",
   "execution_count": 19,
   "id": "d0dd5646",
   "metadata": {},
   "outputs": [
    {
     "data": {
      "text/html": [
       "<div>\n",
       "<style scoped>\n",
       "    .dataframe tbody tr th:only-of-type {\n",
       "        vertical-align: middle;\n",
       "    }\n",
       "\n",
       "    .dataframe tbody tr th {\n",
       "        vertical-align: top;\n",
       "    }\n",
       "\n",
       "    .dataframe thead th {\n",
       "        text-align: right;\n",
       "    }\n",
       "</style>\n",
       "<table border=\"1\" class=\"dataframe\">\n",
       "  <thead>\n",
       "    <tr style=\"text-align: right;\">\n",
       "      <th></th>\n",
       "      <th>Customer ID</th>\n",
       "      <th>First Name</th>\n",
       "      <th>Last Name</th>\n",
       "      <th>Email ID</th>\n",
       "      <th>Phone Number</th>\n",
       "      <th>Age</th>\n",
       "    </tr>\n",
       "  </thead>\n",
       "  <tbody>\n",
       "    <tr>\n",
       "      <th>2</th>\n",
       "      <td>CUST003</td>\n",
       "      <td>Rahul</td>\n",
       "      <td>Verma</td>\n",
       "      <td>rahul.verma@example.com</td>\n",
       "      <td>+91-9988776655</td>\n",
       "      <td>60</td>\n",
       "    </tr>\n",
       "    <tr>\n",
       "      <th>4</th>\n",
       "      <td>CUST005</td>\n",
       "      <td>Karan</td>\n",
       "      <td>Patel</td>\n",
       "      <td>karan.patel@example.com</td>\n",
       "      <td>+91-9871234567</td>\n",
       "      <td>52</td>\n",
       "    </tr>\n",
       "  </tbody>\n",
       "</table>\n",
       "</div>"
      ],
      "text/plain": [
       "  Customer ID First Name Last Name                 Email ID    Phone Number  \\\n",
       "2     CUST003      Rahul     Verma  rahul.verma@example.com  +91-9988776655   \n",
       "4     CUST005      Karan     Patel  karan.patel@example.com  +91-9871234567   \n",
       "\n",
       "   Age  \n",
       "2   60  \n",
       "4   52  "
      ]
     },
     "metadata": {},
     "output_type": "display_data"
    }
   ],
   "source": [
    "display(df[mask])  # masked rows"
   ]
  },
  {
   "cell_type": "code",
   "execution_count": 20,
   "id": "516ffe7b",
   "metadata": {},
   "outputs": [
    {
     "data": {
      "text/html": [
       "<div>\n",
       "<style scoped>\n",
       "    .dataframe tbody tr th:only-of-type {\n",
       "        vertical-align: middle;\n",
       "    }\n",
       "\n",
       "    .dataframe tbody tr th {\n",
       "        vertical-align: top;\n",
       "    }\n",
       "\n",
       "    .dataframe thead th {\n",
       "        text-align: right;\n",
       "    }\n",
       "</style>\n",
       "<table border=\"1\" class=\"dataframe\">\n",
       "  <thead>\n",
       "    <tr style=\"text-align: right;\">\n",
       "      <th></th>\n",
       "      <th>Customer ID</th>\n",
       "      <th>First Name</th>\n",
       "      <th>Last Name</th>\n",
       "      <th>Email ID</th>\n",
       "      <th>Phone Number</th>\n",
       "      <th>Age</th>\n",
       "    </tr>\n",
       "  </thead>\n",
       "  <tbody>\n",
       "    <tr>\n",
       "      <th>0</th>\n",
       "      <td>CUST001</td>\n",
       "      <td>Amit</td>\n",
       "      <td>Sharma</td>\n",
       "      <td>amit.sharma@example.com</td>\n",
       "      <td>+91-9876543210</td>\n",
       "      <td>22</td>\n",
       "    </tr>\n",
       "    <tr>\n",
       "      <th>1</th>\n",
       "      <td>CUST002</td>\n",
       "      <td>Priya</td>\n",
       "      <td>Mehra</td>\n",
       "      <td>priya.mehra@example.com</td>\n",
       "      <td>+91-9123456789</td>\n",
       "      <td>26</td>\n",
       "    </tr>\n",
       "    <tr>\n",
       "      <th>3</th>\n",
       "      <td>CUST004</td>\n",
       "      <td>Sneha</td>\n",
       "      <td>Nair</td>\n",
       "      <td>sneha.nair@example.com</td>\n",
       "      <td>+91-9090909090</td>\n",
       "      <td>45</td>\n",
       "    </tr>\n",
       "  </tbody>\n",
       "</table>\n",
       "</div>"
      ],
      "text/plain": [
       "  Customer ID First Name Last Name                 Email ID    Phone Number  \\\n",
       "0     CUST001       Amit    Sharma  amit.sharma@example.com  +91-9876543210   \n",
       "1     CUST002      Priya     Mehra  priya.mehra@example.com  +91-9123456789   \n",
       "3     CUST004      Sneha      Nair   sneha.nair@example.com  +91-9090909090   \n",
       "\n",
       "   Age  \n",
       "0   22  \n",
       "1   26  \n",
       "3   45  "
      ]
     },
     "metadata": {},
     "output_type": "display_data"
    }
   ],
   "source": [
    "display (df[~mask])  # unmasked"
   ]
  },
  {
   "cell_type": "markdown",
   "id": "f3887224",
   "metadata": {},
   "source": [
    "6. Apply"
   ]
  },
  {
   "cell_type": "code",
   "execution_count": 21,
   "id": "db876968",
   "metadata": {},
   "outputs": [
    {
     "data": {
      "text/html": [
       "<div>\n",
       "<style scoped>\n",
       "    .dataframe tbody tr th:only-of-type {\n",
       "        vertical-align: middle;\n",
       "    }\n",
       "\n",
       "    .dataframe tbody tr th {\n",
       "        vertical-align: top;\n",
       "    }\n",
       "\n",
       "    .dataframe thead th {\n",
       "        text-align: right;\n",
       "    }\n",
       "</style>\n",
       "<table border=\"1\" class=\"dataframe\">\n",
       "  <thead>\n",
       "    <tr style=\"text-align: right;\">\n",
       "      <th></th>\n",
       "      <th>Customer ID</th>\n",
       "      <th>First Name</th>\n",
       "      <th>Last Name</th>\n",
       "      <th>Email ID</th>\n",
       "      <th>Phone Number</th>\n",
       "      <th>Age</th>\n",
       "      <th>Senior Citizen</th>\n",
       "    </tr>\n",
       "  </thead>\n",
       "  <tbody>\n",
       "    <tr>\n",
       "      <th>0</th>\n",
       "      <td>CUST001</td>\n",
       "      <td>Amit</td>\n",
       "      <td>Sharma</td>\n",
       "      <td>amit.sharma@example.com</td>\n",
       "      <td>+91-9876543210</td>\n",
       "      <td>22</td>\n",
       "      <td>False</td>\n",
       "    </tr>\n",
       "    <tr>\n",
       "      <th>1</th>\n",
       "      <td>CUST002</td>\n",
       "      <td>Priya</td>\n",
       "      <td>Mehra</td>\n",
       "      <td>priya.mehra@example.com</td>\n",
       "      <td>+91-9123456789</td>\n",
       "      <td>26</td>\n",
       "      <td>False</td>\n",
       "    </tr>\n",
       "    <tr>\n",
       "      <th>2</th>\n",
       "      <td>CUST003</td>\n",
       "      <td>Rahul</td>\n",
       "      <td>Verma</td>\n",
       "      <td>rahul.verma@example.com</td>\n",
       "      <td>+91-9988776655</td>\n",
       "      <td>60</td>\n",
       "      <td>False</td>\n",
       "    </tr>\n",
       "    <tr>\n",
       "      <th>3</th>\n",
       "      <td>CUST004</td>\n",
       "      <td>Sneha</td>\n",
       "      <td>Nair</td>\n",
       "      <td>sneha.nair@example.com</td>\n",
       "      <td>+91-9090909090</td>\n",
       "      <td>45</td>\n",
       "      <td>False</td>\n",
       "    </tr>\n",
       "    <tr>\n",
       "      <th>4</th>\n",
       "      <td>CUST005</td>\n",
       "      <td>Karan</td>\n",
       "      <td>Patel</td>\n",
       "      <td>karan.patel@example.com</td>\n",
       "      <td>+91-9871234567</td>\n",
       "      <td>52</td>\n",
       "      <td>False</td>\n",
       "    </tr>\n",
       "  </tbody>\n",
       "</table>\n",
       "</div>"
      ],
      "text/plain": [
       "  Customer ID First Name Last Name                 Email ID    Phone Number  \\\n",
       "0     CUST001       Amit    Sharma  amit.sharma@example.com  +91-9876543210   \n",
       "1     CUST002      Priya     Mehra  priya.mehra@example.com  +91-9123456789   \n",
       "2     CUST003      Rahul     Verma  rahul.verma@example.com  +91-9988776655   \n",
       "3     CUST004      Sneha      Nair   sneha.nair@example.com  +91-9090909090   \n",
       "4     CUST005      Karan     Patel  karan.patel@example.com  +91-9871234567   \n",
       "\n",
       "   Age  Senior Citizen  \n",
       "0   22           False  \n",
       "1   26           False  \n",
       "2   60           False  \n",
       "3   45           False  \n",
       "4   52           False  "
      ]
     },
     "metadata": {},
     "output_type": "display_data"
    }
   ],
   "source": [
    "def isSenior(age: int):\n",
    "    if age > 60:\n",
    "        return True\n",
    "    return False\n",
    "\n",
    "df['Senior Citizen'] = df['Age'].apply(isSenior)\n",
    "display(df)\n"
   ]
  },
  {
   "cell_type": "markdown",
   "id": "9a7ec9be",
   "metadata": {},
   "source": [
    "7. Sorting"
   ]
  },
  {
   "cell_type": "code",
   "execution_count": 22,
   "id": "adde79c8",
   "metadata": {},
   "outputs": [
    {
     "data": {
      "text/html": [
       "<div>\n",
       "<style scoped>\n",
       "    .dataframe tbody tr th:only-of-type {\n",
       "        vertical-align: middle;\n",
       "    }\n",
       "\n",
       "    .dataframe tbody tr th {\n",
       "        vertical-align: top;\n",
       "    }\n",
       "\n",
       "    .dataframe thead th {\n",
       "        text-align: right;\n",
       "    }\n",
       "</style>\n",
       "<table border=\"1\" class=\"dataframe\">\n",
       "  <thead>\n",
       "    <tr style=\"text-align: right;\">\n",
       "      <th></th>\n",
       "      <th>Customer ID</th>\n",
       "      <th>First Name</th>\n",
       "      <th>Last Name</th>\n",
       "      <th>Email ID</th>\n",
       "      <th>Phone Number</th>\n",
       "      <th>Age</th>\n",
       "      <th>Senior Citizen</th>\n",
       "    </tr>\n",
       "  </thead>\n",
       "  <tbody>\n",
       "    <tr>\n",
       "      <th>2</th>\n",
       "      <td>CUST003</td>\n",
       "      <td>Rahul</td>\n",
       "      <td>Verma</td>\n",
       "      <td>rahul.verma@example.com</td>\n",
       "      <td>+91-9988776655</td>\n",
       "      <td>60</td>\n",
       "      <td>False</td>\n",
       "    </tr>\n",
       "    <tr>\n",
       "      <th>4</th>\n",
       "      <td>CUST005</td>\n",
       "      <td>Karan</td>\n",
       "      <td>Patel</td>\n",
       "      <td>karan.patel@example.com</td>\n",
       "      <td>+91-9871234567</td>\n",
       "      <td>52</td>\n",
       "      <td>False</td>\n",
       "    </tr>\n",
       "    <tr>\n",
       "      <th>3</th>\n",
       "      <td>CUST004</td>\n",
       "      <td>Sneha</td>\n",
       "      <td>Nair</td>\n",
       "      <td>sneha.nair@example.com</td>\n",
       "      <td>+91-9090909090</td>\n",
       "      <td>45</td>\n",
       "      <td>False</td>\n",
       "    </tr>\n",
       "    <tr>\n",
       "      <th>1</th>\n",
       "      <td>CUST002</td>\n",
       "      <td>Priya</td>\n",
       "      <td>Mehra</td>\n",
       "      <td>priya.mehra@example.com</td>\n",
       "      <td>+91-9123456789</td>\n",
       "      <td>26</td>\n",
       "      <td>False</td>\n",
       "    </tr>\n",
       "    <tr>\n",
       "      <th>0</th>\n",
       "      <td>CUST001</td>\n",
       "      <td>Amit</td>\n",
       "      <td>Sharma</td>\n",
       "      <td>amit.sharma@example.com</td>\n",
       "      <td>+91-9876543210</td>\n",
       "      <td>22</td>\n",
       "      <td>False</td>\n",
       "    </tr>\n",
       "  </tbody>\n",
       "</table>\n",
       "</div>"
      ],
      "text/plain": [
       "  Customer ID First Name Last Name                 Email ID    Phone Number  \\\n",
       "2     CUST003      Rahul     Verma  rahul.verma@example.com  +91-9988776655   \n",
       "4     CUST005      Karan     Patel  karan.patel@example.com  +91-9871234567   \n",
       "3     CUST004      Sneha      Nair   sneha.nair@example.com  +91-9090909090   \n",
       "1     CUST002      Priya     Mehra  priya.mehra@example.com  +91-9123456789   \n",
       "0     CUST001       Amit    Sharma  amit.sharma@example.com  +91-9876543210   \n",
       "\n",
       "   Age  Senior Citizen  \n",
       "2   60           False  \n",
       "4   52           False  \n",
       "3   45           False  \n",
       "1   26           False  \n",
       "0   22           False  "
      ]
     },
     "metadata": {},
     "output_type": "display_data"
    }
   ],
   "source": [
    "display(df.sort_values([\"Age\"], ascending=False))"
   ]
  },
  {
   "cell_type": "markdown",
   "id": "daf92ff5",
   "metadata": {},
   "source": [
    "8. Delete Columns"
   ]
  },
  {
   "cell_type": "code",
   "execution_count": 23,
   "id": "0dcbe2cd",
   "metadata": {},
   "outputs": [
    {
     "data": {
      "text/html": [
       "<div>\n",
       "<style scoped>\n",
       "    .dataframe tbody tr th:only-of-type {\n",
       "        vertical-align: middle;\n",
       "    }\n",
       "\n",
       "    .dataframe tbody tr th {\n",
       "        vertical-align: top;\n",
       "    }\n",
       "\n",
       "    .dataframe thead th {\n",
       "        text-align: right;\n",
       "    }\n",
       "</style>\n",
       "<table border=\"1\" class=\"dataframe\">\n",
       "  <thead>\n",
       "    <tr style=\"text-align: right;\">\n",
       "      <th></th>\n",
       "      <th>Customer ID</th>\n",
       "      <th>First Name</th>\n",
       "      <th>Last Name</th>\n",
       "      <th>Phone Number</th>\n",
       "      <th>Age</th>\n",
       "      <th>Senior Citizen</th>\n",
       "    </tr>\n",
       "  </thead>\n",
       "  <tbody>\n",
       "    <tr>\n",
       "      <th>0</th>\n",
       "      <td>CUST001</td>\n",
       "      <td>Amit</td>\n",
       "      <td>Sharma</td>\n",
       "      <td>+91-9876543210</td>\n",
       "      <td>22</td>\n",
       "      <td>False</td>\n",
       "    </tr>\n",
       "    <tr>\n",
       "      <th>1</th>\n",
       "      <td>CUST002</td>\n",
       "      <td>Priya</td>\n",
       "      <td>Mehra</td>\n",
       "      <td>+91-9123456789</td>\n",
       "      <td>26</td>\n",
       "      <td>False</td>\n",
       "    </tr>\n",
       "    <tr>\n",
       "      <th>2</th>\n",
       "      <td>CUST003</td>\n",
       "      <td>Rahul</td>\n",
       "      <td>Verma</td>\n",
       "      <td>+91-9988776655</td>\n",
       "      <td>60</td>\n",
       "      <td>False</td>\n",
       "    </tr>\n",
       "    <tr>\n",
       "      <th>3</th>\n",
       "      <td>CUST004</td>\n",
       "      <td>Sneha</td>\n",
       "      <td>Nair</td>\n",
       "      <td>+91-9090909090</td>\n",
       "      <td>45</td>\n",
       "      <td>False</td>\n",
       "    </tr>\n",
       "    <tr>\n",
       "      <th>4</th>\n",
       "      <td>CUST005</td>\n",
       "      <td>Karan</td>\n",
       "      <td>Patel</td>\n",
       "      <td>+91-9871234567</td>\n",
       "      <td>52</td>\n",
       "      <td>False</td>\n",
       "    </tr>\n",
       "  </tbody>\n",
       "</table>\n",
       "</div>"
      ],
      "text/plain": [
       "  Customer ID First Name Last Name    Phone Number  Age  Senior Citizen\n",
       "0     CUST001       Amit    Sharma  +91-9876543210   22           False\n",
       "1     CUST002      Priya     Mehra  +91-9123456789   26           False\n",
       "2     CUST003      Rahul     Verma  +91-9988776655   60           False\n",
       "3     CUST004      Sneha      Nair  +91-9090909090   45           False\n",
       "4     CUST005      Karan     Patel  +91-9871234567   52           False"
      ]
     },
     "metadata": {},
     "output_type": "display_data"
    }
   ],
   "source": [
    "df = df.drop(columns=[\"Email ID\"])\n",
    "display(df)"
   ]
  },
  {
   "cell_type": "code",
   "execution_count": null,
   "id": "7526fc5d",
   "metadata": {},
   "outputs": [],
   "source": []
  }
 ],
 "metadata": {
  "kernelspec": {
   "display_name": ".venv",
   "language": "python",
   "name": "python3"
  },
  "language_info": {
   "codemirror_mode": {
    "name": "ipython",
    "version": 3
   },
   "file_extension": ".py",
   "mimetype": "text/x-python",
   "name": "python",
   "nbconvert_exporter": "python",
   "pygments_lexer": "ipython3",
   "version": "3.12.11"
  }
 },
 "nbformat": 4,
 "nbformat_minor": 5
}
