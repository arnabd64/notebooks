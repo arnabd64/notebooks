{
 "cells": [
  {
   "cell_type": "code",
   "execution_count": 5,
   "id": "d3c8b68b",
   "metadata": {},
   "outputs": [],
   "source": [
    "import pandas as pd\n",
    "from IPython.display import display"
   ]
  },
  {
   "cell_type": "markdown",
   "id": "0e21319c",
   "metadata": {},
   "source": [
    "Pandas is a package built using numpy used for data analysis and manipulation."
   ]
  },
  {
   "cell_type": "code",
   "execution_count": 7,
   "id": "eb3d60b7",
   "metadata": {},
   "outputs": [
    {
     "data": {
      "text/html": [
       "<div>\n",
       "<style scoped>\n",
       "    .dataframe tbody tr th:only-of-type {\n",
       "        vertical-align: middle;\n",
       "    }\n",
       "\n",
       "    .dataframe tbody tr th {\n",
       "        vertical-align: top;\n",
       "    }\n",
       "\n",
       "    .dataframe thead th {\n",
       "        text-align: right;\n",
       "    }\n",
       "</style>\n",
       "<table border=\"1\" class=\"dataframe\">\n",
       "  <thead>\n",
       "    <tr style=\"text-align: right;\">\n",
       "      <th></th>\n",
       "      <th>Name</th>\n",
       "      <th>Age</th>\n",
       "      <th>City</th>\n",
       "    </tr>\n",
       "  </thead>\n",
       "  <tbody>\n",
       "    <tr>\n",
       "      <th>0</th>\n",
       "      <td>Alice</td>\n",
       "      <td>25</td>\n",
       "      <td>Delhi</td>\n",
       "    </tr>\n",
       "    <tr>\n",
       "      <th>1</th>\n",
       "      <td>Bob</td>\n",
       "      <td>30</td>\n",
       "      <td>Mumbai</td>\n",
       "    </tr>\n",
       "    <tr>\n",
       "      <th>2</th>\n",
       "      <td>Charlie</td>\n",
       "      <td>35</td>\n",
       "      <td>Bangalore</td>\n",
       "    </tr>\n",
       "  </tbody>\n",
       "</table>\n",
       "</div>"
      ],
      "text/plain": [
       "      Name  Age       City\n",
       "0    Alice   25      Delhi\n",
       "1      Bob   30     Mumbai\n",
       "2  Charlie   35  Bangalore"
      ]
     },
     "metadata": {},
     "output_type": "display_data"
    }
   ],
   "source": [
    "# Column Name : Array compatible list of Values\n",
    "data = {\n",
    "    'Name': ['Alice', 'Bob', 'Charlie'],\n",
    "    'Age': [25, 30, 35],\n",
    "    'City': ['Delhi', 'Mumbai', 'Bangalore']\n",
    "}\n",
    "df = pd.DataFrame(data)\n",
    "display(df)"
   ]
  },
  {
   "cell_type": "markdown",
   "id": "1caf0a6f",
   "metadata": {},
   "source": [
    "1. Load data from CSV"
   ]
  },
  {
   "cell_type": "code",
   "execution_count": 9,
   "id": "c192ed4a",
   "metadata": {},
   "outputs": [
    {
     "data": {
      "text/html": [
       "<div>\n",
       "<style scoped>\n",
       "    .dataframe tbody tr th:only-of-type {\n",
       "        vertical-align: middle;\n",
       "    }\n",
       "\n",
       "    .dataframe tbody tr th {\n",
       "        vertical-align: top;\n",
       "    }\n",
       "\n",
       "    .dataframe thead th {\n",
       "        text-align: right;\n",
       "    }\n",
       "</style>\n",
       "<table border=\"1\" class=\"dataframe\">\n",
       "  <thead>\n",
       "    <tr style=\"text-align: right;\">\n",
       "      <th></th>\n",
       "      <th>Customer ID</th>\n",
       "      <th>First Name</th>\n",
       "      <th>Last Name</th>\n",
       "      <th>Email ID</th>\n",
       "      <th>Phone Number</th>\n",
       "    </tr>\n",
       "  </thead>\n",
       "  <tbody>\n",
       "    <tr>\n",
       "      <th>0</th>\n",
       "      <td>CUST001</td>\n",
       "      <td>Amit</td>\n",
       "      <td>Sharma</td>\n",
       "      <td>amit.sharma@example.com</td>\n",
       "      <td>+91-9876543210</td>\n",
       "    </tr>\n",
       "    <tr>\n",
       "      <th>1</th>\n",
       "      <td>CUST002</td>\n",
       "      <td>Priya</td>\n",
       "      <td>Mehra</td>\n",
       "      <td>priya.mehra@example.com</td>\n",
       "      <td>+91-9123456789</td>\n",
       "    </tr>\n",
       "    <tr>\n",
       "      <th>2</th>\n",
       "      <td>CUST003</td>\n",
       "      <td>Rahul</td>\n",
       "      <td>Verma</td>\n",
       "      <td>rahul.verma@example.com</td>\n",
       "      <td>+91-9988776655</td>\n",
       "    </tr>\n",
       "    <tr>\n",
       "      <th>3</th>\n",
       "      <td>CUST004</td>\n",
       "      <td>Sneha</td>\n",
       "      <td>Nair</td>\n",
       "      <td>sneha.nair@example.com</td>\n",
       "      <td>+91-9090909090</td>\n",
       "    </tr>\n",
       "    <tr>\n",
       "      <th>4</th>\n",
       "      <td>CUST005</td>\n",
       "      <td>Karan</td>\n",
       "      <td>Patel</td>\n",
       "      <td>karan.patel@example.com</td>\n",
       "      <td>+91-9871234567</td>\n",
       "    </tr>\n",
       "  </tbody>\n",
       "</table>\n",
       "</div>"
      ],
      "text/plain": [
       "  Customer ID First Name Last Name                 Email ID    Phone Number\n",
       "0     CUST001       Amit    Sharma  amit.sharma@example.com  +91-9876543210\n",
       "1     CUST002      Priya     Mehra  priya.mehra@example.com  +91-9123456789\n",
       "2     CUST003      Rahul     Verma  rahul.verma@example.com  +91-9988776655\n",
       "3     CUST004      Sneha      Nair   sneha.nair@example.com  +91-9090909090\n",
       "4     CUST005      Karan     Patel  karan.patel@example.com  +91-9871234567"
      ]
     },
     "metadata": {},
     "output_type": "display_data"
    }
   ],
   "source": [
    "df = pd.read_csv(\"data.csv\")\n",
    "display(df)"
   ]
  },
  {
   "cell_type": "code",
   "execution_count": 10,
   "id": "71a89fde",
   "metadata": {},
   "outputs": [
    {
     "data": {
      "text/plain": [
       "<function pandas.io.xml.read_xml(path_or_buffer: 'FilePath | ReadBuffer[bytes] | ReadBuffer[str]', *, xpath: 'str' = './*', namespaces: 'dict[str, str] | None' = None, elems_only: 'bool' = False, attrs_only: 'bool' = False, names: 'Sequence[str] | None' = None, dtype: 'DtypeArg | None' = None, converters: 'ConvertersArg | None' = None, parse_dates: 'ParseDatesArg | None' = None, encoding: 'str | None' = 'utf-8', parser: 'XMLParsers' = 'lxml', stylesheet: 'FilePath | ReadBuffer[bytes] | ReadBuffer[str] | None' = None, iterparse: 'dict[str, list[str]] | None' = None, compression: 'CompressionOptions' = 'infer', storage_options: 'StorageOptions | None' = None, dtype_backend: 'DtypeBackend | lib.NoDefault' = <no_default>) -> 'DataFrame'>"
      ]
     },
     "execution_count": 10,
     "metadata": {},
     "output_type": "execute_result"
    }
   ],
   "source": [
    "pd.read_excel\n",
    "pd.read_json\n",
    "pd.read_html\n",
    "pd.read_sql  # compatible with SQLAlchemy\n",
    "pd.read_xml"
   ]
  },
  {
   "cell_type": "markdown",
   "id": "3dba42e3",
   "metadata": {},
   "source": [
    "2. Inspect"
   ]
  },
  {
   "cell_type": "code",
   "execution_count": 12,
   "id": "e650504f",
   "metadata": {},
   "outputs": [
    {
     "data": {
      "text/html": [
       "<div>\n",
       "<style scoped>\n",
       "    .dataframe tbody tr th:only-of-type {\n",
       "        vertical-align: middle;\n",
       "    }\n",
       "\n",
       "    .dataframe tbody tr th {\n",
       "        vertical-align: top;\n",
       "    }\n",
       "\n",
       "    .dataframe thead th {\n",
       "        text-align: right;\n",
       "    }\n",
       "</style>\n",
       "<table border=\"1\" class=\"dataframe\">\n",
       "  <thead>\n",
       "    <tr style=\"text-align: right;\">\n",
       "      <th></th>\n",
       "      <th>Customer ID</th>\n",
       "      <th>First Name</th>\n",
       "      <th>Last Name</th>\n",
       "      <th>Email ID</th>\n",
       "      <th>Phone Number</th>\n",
       "    </tr>\n",
       "  </thead>\n",
       "  <tbody>\n",
       "    <tr>\n",
       "      <th>0</th>\n",
       "      <td>CUST001</td>\n",
       "      <td>Amit</td>\n",
       "      <td>Sharma</td>\n",
       "      <td>amit.sharma@example.com</td>\n",
       "      <td>+91-9876543210</td>\n",
       "    </tr>\n",
       "    <tr>\n",
       "      <th>1</th>\n",
       "      <td>CUST002</td>\n",
       "      <td>Priya</td>\n",
       "      <td>Mehra</td>\n",
       "      <td>priya.mehra@example.com</td>\n",
       "      <td>+91-9123456789</td>\n",
       "    </tr>\n",
       "    <tr>\n",
       "      <th>2</th>\n",
       "      <td>CUST003</td>\n",
       "      <td>Rahul</td>\n",
       "      <td>Verma</td>\n",
       "      <td>rahul.verma@example.com</td>\n",
       "      <td>+91-9988776655</td>\n",
       "    </tr>\n",
       "  </tbody>\n",
       "</table>\n",
       "</div>"
      ],
      "text/plain": [
       "  Customer ID First Name Last Name                 Email ID    Phone Number\n",
       "0     CUST001       Amit    Sharma  amit.sharma@example.com  +91-9876543210\n",
       "1     CUST002      Priya     Mehra  priya.mehra@example.com  +91-9123456789\n",
       "2     CUST003      Rahul     Verma  rahul.verma@example.com  +91-9988776655"
      ]
     },
     "metadata": {},
     "output_type": "display_data"
    }
   ],
   "source": [
    "display(df.head(3))"
   ]
  },
  {
   "cell_type": "code",
   "execution_count": 13,
   "id": "a3e4e849",
   "metadata": {},
   "outputs": [
    {
     "data": {
      "text/html": [
       "<div>\n",
       "<style scoped>\n",
       "    .dataframe tbody tr th:only-of-type {\n",
       "        vertical-align: middle;\n",
       "    }\n",
       "\n",
       "    .dataframe tbody tr th {\n",
       "        vertical-align: top;\n",
       "    }\n",
       "\n",
       "    .dataframe thead th {\n",
       "        text-align: right;\n",
       "    }\n",
       "</style>\n",
       "<table border=\"1\" class=\"dataframe\">\n",
       "  <thead>\n",
       "    <tr style=\"text-align: right;\">\n",
       "      <th></th>\n",
       "      <th>Customer ID</th>\n",
       "      <th>First Name</th>\n",
       "      <th>Last Name</th>\n",
       "      <th>Email ID</th>\n",
       "      <th>Phone Number</th>\n",
       "    </tr>\n",
       "  </thead>\n",
       "  <tbody>\n",
       "    <tr>\n",
       "      <th>2</th>\n",
       "      <td>CUST003</td>\n",
       "      <td>Rahul</td>\n",
       "      <td>Verma</td>\n",
       "      <td>rahul.verma@example.com</td>\n",
       "      <td>+91-9988776655</td>\n",
       "    </tr>\n",
       "    <tr>\n",
       "      <th>3</th>\n",
       "      <td>CUST004</td>\n",
       "      <td>Sneha</td>\n",
       "      <td>Nair</td>\n",
       "      <td>sneha.nair@example.com</td>\n",
       "      <td>+91-9090909090</td>\n",
       "    </tr>\n",
       "    <tr>\n",
       "      <th>4</th>\n",
       "      <td>CUST005</td>\n",
       "      <td>Karan</td>\n",
       "      <td>Patel</td>\n",
       "      <td>karan.patel@example.com</td>\n",
       "      <td>+91-9871234567</td>\n",
       "    </tr>\n",
       "  </tbody>\n",
       "</table>\n",
       "</div>"
      ],
      "text/plain": [
       "  Customer ID First Name Last Name                 Email ID    Phone Number\n",
       "2     CUST003      Rahul     Verma  rahul.verma@example.com  +91-9988776655\n",
       "3     CUST004      Sneha      Nair   sneha.nair@example.com  +91-9090909090\n",
       "4     CUST005      Karan     Patel  karan.patel@example.com  +91-9871234567"
      ]
     },
     "metadata": {},
     "output_type": "display_data"
    }
   ],
   "source": [
    "display(df.tail(3))"
   ]
  },
  {
   "cell_type": "code",
   "execution_count": 15,
   "id": "1dec8ed7",
   "metadata": {},
   "outputs": [
    {
     "name": "stdout",
     "output_type": "stream",
     "text": [
      "<class 'pandas.core.frame.DataFrame'>\n",
      "RangeIndex: 5 entries, 0 to 4\n",
      "Data columns (total 5 columns):\n",
      " #   Column        Non-Null Count  Dtype \n",
      "---  ------        --------------  ----- \n",
      " 0   Customer ID   5 non-null      object\n",
      " 1   First Name    5 non-null      object\n",
      " 2   Last Name     5 non-null      object\n",
      " 3   Email ID      5 non-null      object\n",
      " 4   Phone Number  5 non-null      object\n",
      "dtypes: object(5)\n",
      "memory usage: 332.0+ bytes\n"
     ]
    }
   ],
   "source": [
    "df.info()"
   ]
  },
  {
   "cell_type": "code",
   "execution_count": 18,
   "id": "bfe0a47f",
   "metadata": {},
   "outputs": [
    {
     "name": "stdout",
     "output_type": "stream",
     "text": [
      "Shape = (5, 5)\n",
      "Size = 25\n"
     ]
    }
   ],
   "source": [
    "print(f\"Shape = {df.shape}\")\n",
    "print(f\"Size = {df.size}\")"
   ]
  },
  {
   "cell_type": "markdown",
   "id": "c0312318",
   "metadata": {},
   "source": [
    "3. describe()"
   ]
  },
  {
   "cell_type": "code",
   "execution_count": 20,
   "id": "47241321",
   "metadata": {},
   "outputs": [
    {
     "data": {
      "text/html": [
       "<div>\n",
       "<style scoped>\n",
       "    .dataframe tbody tr th:only-of-type {\n",
       "        vertical-align: middle;\n",
       "    }\n",
       "\n",
       "    .dataframe tbody tr th {\n",
       "        vertical-align: top;\n",
       "    }\n",
       "\n",
       "    .dataframe thead th {\n",
       "        text-align: right;\n",
       "    }\n",
       "</style>\n",
       "<table border=\"1\" class=\"dataframe\">\n",
       "  <thead>\n",
       "    <tr style=\"text-align: right;\">\n",
       "      <th></th>\n",
       "      <th>Customer ID</th>\n",
       "      <th>First Name</th>\n",
       "      <th>Last Name</th>\n",
       "      <th>Email ID</th>\n",
       "      <th>Phone Number</th>\n",
       "    </tr>\n",
       "  </thead>\n",
       "  <tbody>\n",
       "    <tr>\n",
       "      <th>count</th>\n",
       "      <td>5</td>\n",
       "      <td>5</td>\n",
       "      <td>5</td>\n",
       "      <td>5</td>\n",
       "      <td>5</td>\n",
       "    </tr>\n",
       "    <tr>\n",
       "      <th>unique</th>\n",
       "      <td>5</td>\n",
       "      <td>5</td>\n",
       "      <td>5</td>\n",
       "      <td>5</td>\n",
       "      <td>5</td>\n",
       "    </tr>\n",
       "    <tr>\n",
       "      <th>top</th>\n",
       "      <td>CUST001</td>\n",
       "      <td>Amit</td>\n",
       "      <td>Sharma</td>\n",
       "      <td>amit.sharma@example.com</td>\n",
       "      <td>+91-9876543210</td>\n",
       "    </tr>\n",
       "    <tr>\n",
       "      <th>freq</th>\n",
       "      <td>1</td>\n",
       "      <td>1</td>\n",
       "      <td>1</td>\n",
       "      <td>1</td>\n",
       "      <td>1</td>\n",
       "    </tr>\n",
       "  </tbody>\n",
       "</table>\n",
       "</div>"
      ],
      "text/plain": [
       "       Customer ID First Name Last Name                 Email ID  \\\n",
       "count            5          5         5                        5   \n",
       "unique           5          5         5                        5   \n",
       "top        CUST001       Amit    Sharma  amit.sharma@example.com   \n",
       "freq             1          1         1                        1   \n",
       "\n",
       "          Phone Number  \n",
       "count                5  \n",
       "unique               5  \n",
       "top     +91-9876543210  \n",
       "freq                 1  "
      ]
     },
     "metadata": {},
     "output_type": "display_data"
    }
   ],
   "source": [
    "display(df.describe())"
   ]
  },
  {
   "cell_type": "code",
   "execution_count": null,
   "id": "d13ad26e",
   "metadata": {},
   "outputs": [],
   "source": []
  }
 ],
 "metadata": {
  "kernelspec": {
   "display_name": ".venv",
   "language": "python",
   "name": "python3"
  },
  "language_info": {
   "codemirror_mode": {
    "name": "ipython",
    "version": 3
   },
   "file_extension": ".py",
   "mimetype": "text/x-python",
   "name": "python",
   "nbconvert_exporter": "python",
   "pygments_lexer": "ipython3",
   "version": "3.12.11"
  }
 },
 "nbformat": 4,
 "nbformat_minor": 5
}
